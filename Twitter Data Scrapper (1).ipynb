{
 "cells": [
  {
   "cell_type": "code",
   "execution_count": 139,
   "metadata": {},
   "outputs": [],
   "source": [
    "# pip install selenium"
   ]
  },
  {
   "cell_type": "code",
   "execution_count": 2,
   "metadata": {},
   "outputs": [
    {
     "data": {
      "text/html": [
       "<div>\n",
       "<style scoped>\n",
       "    .dataframe tbody tr th:only-of-type {\n",
       "        vertical-align: middle;\n",
       "    }\n",
       "\n",
       "    .dataframe tbody tr th {\n",
       "        vertical-align: top;\n",
       "    }\n",
       "\n",
       "    .dataframe thead th {\n",
       "        text-align: right;\n",
       "    }\n",
       "</style>\n",
       "<table border=\"1\" class=\"dataframe\">\n",
       "  <thead>\n",
       "    <tr style=\"text-align: right;\">\n",
       "      <th></th>\n",
       "      <th>username</th>\n",
       "      <th>handle</th>\n",
       "      <th>postdate</th>\n",
       "      <th>text</th>\n",
       "      <th>reply_cnt</th>\n",
       "      <th>retweet_cnt</th>\n",
       "      <th>like_cnt</th>\n",
       "    </tr>\n",
       "  </thead>\n",
       "  <tbody>\n",
       "    <tr>\n",
       "      <th>0</th>\n",
       "      <td>The Times Of India Retweeted</td>\n",
       "      <td>@gadgetsnow</td>\n",
       "      <td>2022-09-07 13:16:32+00:00</td>\n",
       "      <td>Gadgets Now\\n@gadgetsnow\\n·\\n1hApple introduce...</td>\n",
       "      <td>NaN</td>\n",
       "      <td>1</td>\n",
       "      <td>4</td>\n",
       "    </tr>\n",
       "    <tr>\n",
       "      <th>1</th>\n",
       "      <td>The Times Of India Retweeted</td>\n",
       "      <td>@gadgetsnow</td>\n",
       "      <td>2022-09-07 13:15:54+00:00</td>\n",
       "      <td>Gadgets Now\\n@gadgetsnow\\n·\\n2hApple launches ...</td>\n",
       "      <td>NaN</td>\n",
       "      <td>1</td>\n",
       "      <td>7</td>\n",
       "    </tr>\n",
       "    <tr>\n",
       "      <th>2</th>\n",
       "      <td>The Times Of India Retweeted</td>\n",
       "      <td>@gadgetsnow</td>\n",
       "      <td>2022-09-07 13:15:15+00:00</td>\n",
       "      <td>Gadgets Now\\n@gadgetsnow\\n·\\n2hApple launches ...</td>\n",
       "      <td>NaN</td>\n",
       "      <td>1</td>\n",
       "      <td>4</td>\n",
       "    </tr>\n",
       "    <tr>\n",
       "      <th>3</th>\n",
       "      <td>The Times Of India Retweeted</td>\n",
       "      <td>@gadgetsnow</td>\n",
       "      <td>2022-09-07 13:14:29+00:00</td>\n",
       "      <td>Gadgets Now\\n@gadgetsnow\\n·\\n2hApple launches ...</td>\n",
       "      <td>NaN</td>\n",
       "      <td>1</td>\n",
       "      <td>1</td>\n",
       "    </tr>\n",
       "    <tr>\n",
       "      <th>4</th>\n",
       "      <td>The Times Of India</td>\n",
       "      <td>@timesofindia</td>\n",
       "      <td>2022-09-07 11:23:01+00:00</td>\n",
       "      <td>The Times Of India\\n@timesofindia\\n·\\n3hApple ...</td>\n",
       "      <td>3</td>\n",
       "      <td>8</td>\n",
       "      <td>92</td>\n",
       "    </tr>\n",
       "  </tbody>\n",
       "</table>\n",
       "</div>"
      ],
      "text/plain": [
       "                       username         handle                   postdate  \\\n",
       "0  The Times Of India Retweeted    @gadgetsnow  2022-09-07 13:16:32+00:00   \n",
       "1  The Times Of India Retweeted    @gadgetsnow  2022-09-07 13:15:54+00:00   \n",
       "2  The Times Of India Retweeted    @gadgetsnow  2022-09-07 13:15:15+00:00   \n",
       "3  The Times Of India Retweeted    @gadgetsnow  2022-09-07 13:14:29+00:00   \n",
       "4            The Times Of India  @timesofindia  2022-09-07 11:23:01+00:00   \n",
       "\n",
       "                                                text reply_cnt retweet_cnt  \\\n",
       "0  Gadgets Now\\n@gadgetsnow\\n·\\n1hApple introduce...       NaN           1   \n",
       "1  Gadgets Now\\n@gadgetsnow\\n·\\n2hApple launches ...       NaN           1   \n",
       "2  Gadgets Now\\n@gadgetsnow\\n·\\n2hApple launches ...       NaN           1   \n",
       "3  Gadgets Now\\n@gadgetsnow\\n·\\n2hApple launches ...       NaN           1   \n",
       "4  The Times Of India\\n@timesofindia\\n·\\n3hApple ...         3           8   \n",
       "\n",
       "  like_cnt  \n",
       "0        4  \n",
       "1        7  \n",
       "2        4  \n",
       "3        1  \n",
       "4       92  "
      ]
     },
     "execution_count": 2,
     "metadata": {},
     "output_type": "execute_result"
    }
   ],
   "source": [
    "df=pd.read_csv('info_10_29.csv')\n",
    "df.head()"
   ]
  },
  {
   "cell_type": "code",
   "execution_count": 140,
   "metadata": {},
   "outputs": [
    {
     "name": "stdout",
     "output_type": "stream",
     "text": [
      "50\n"
     ]
    }
   ],
   "source": [
    "most_followed=[('Virat Kohli','imVkohli'),('Harbhajan Turbanator','harbhajan_singh'),\n",
    "               ('BJP','BJP4India'),('Riteish Deshmukh','Riteishd'),('Kiran Bedi','thekiranbedi'),\n",
    "               ('Farhan Akhtar','FarOutAkhtar'),('Chetan Bhagat','chetan_bhagat'),('Sushma Swaraj','SushmaSwaraj'),('Sonam K Ahuja','sonamakapoor')\n",
    "               ,('President of India','rashtrapatibhvn'),('The Times Of India','timesofindia'),('Yogi Adityanath','myogiadityanath'),\n",
    "               ('Shraddha','ShraddhaKapoor'),('Akhilesh Yadav','yadavakhilesh'),('Ranveer Singh','RanveerOfficial'),('Parineeti Chopra','ParineetiChopra'),('Ajay Devgn','ajaydevgn'),\n",
    "               ('BCCI','BCCI'),('Lata Mangeshkar','mangeshkarlata'),('Arun Jaitley','arunjaitley'),('NDTV','ndtv'),('Shahid Kapoor','shahidkapoor'),\n",
    "    \n",
    "                ('Karan Johar','karanjohar'),('Kapil Sharma','KapilSharmaK9'),('Rahul Gandhi','RahulGandhi')\n",
    "              ,('Anupam Kher','AnupamPKher'),('Suresh Raina','ImRaina'),('Rohit Sharma','ImRo45')\n",
    "              ,('Dalai Lama','DalaiLama'),('Rajnath Singh','rajnathsingh'),('Alia Bhatt','aliaa08')\n",
    "              ,('Hrithik Roshan','iHrithik'),('Sachin Tendulkar','sachin_rt'),('Akshay Kumar','akshaykumar')\n",
    "              ,('Shah Rukh Khan','iamsrk'),('Virender Sehwag','virendersehwag'),('Arvind Kejriwal','ArvindKejriwal')\n",
    "              ,('Anushka Sharma','AnushkaSharma'),('A.R.Rahman','arrahman'),('Amit Shah','AmitShah')\n",
    "              ,('PRIYANKA','priyankachopra'),('Deepika Padukone','deepikapadukone')\n",
    "              ,('PMO India','PMOIndia'),('Salman Khan','BeingSalmanKhan'),('Amitabh Bachchan','SrBachchan')\n",
    "              ,('Narendra Modi','narendramodi'),\n",
    "               ('Mahesh Babu','urstrulyMahesh'),('Smriti Z Irani','smritiirani'),('Gautam Gambhir','GautamGambhir'),('VarunDhawan','Varun_dvn')\n",
    "              ]\n",
    "\n",
    "print(len(most_followed))"
   ]
  },
  {
   "cell_type": "code",
   "execution_count": 1,
   "metadata": {},
   "outputs": [],
   "source": [
    "#Install the required librarires\n",
    "import numpy as np\n",
    "import pandas as pd\n",
    "import re\n",
    "import csv\n",
    "from getpass import getpass\n",
    "from time import sleep\n",
    "from selenium.webdriver import Chrome\n",
    "from selenium.webdriver.common.keys import Keys\n",
    "from selenium.common.exceptions import NoSuchElementException\n",
    "from selenium.webdriver.support.ui import WebDriverWait\n",
    "from selenium.webdriver.support import expected_conditions as EC\n",
    "from selenium.webdriver.common.by import By\n",
    "from tqdm import tqdm\n",
    "from datetime import datetime\n",
    "\n",
    "from datetime import timezone"
   ]
  },
  {
   "cell_type": "code",
   "execution_count": 142,
   "metadata": {},
   "outputs": [],
   "source": [
    "#Function to get webdriver\n",
    "def get_driver():\n",
    "    \n",
    "    driver=Chrome()\n",
    "    driver.get('https://twitter.com/i/flow/login')\n",
    "    sleep(3)\n",
    "    driver.maximize_window()\n",
    "    return driver"
   ]
  },
  {
   "cell_type": "code",
   "execution_count": 143,
   "metadata": {},
   "outputs": [],
   "source": [
    "#Function to login to twitter account\n",
    "\n",
    "def login(driver,mail,my_password):\n",
    "    \n",
    "    username=driver.find_element('xpath','//input[@name=\"text\"]')\n",
    "    sleep(1)\n",
    "    username.send_keys(mail)\n",
    "    sleep(1)\n",
    "    username.send_keys(Keys.RETURN)\n",
    "    sleep(3)\n",
    "    password=driver.find_element('xpath','//input[@name=\"password\"]')\n",
    "    sleep(1)\n",
    "    password.send_keys(my_password)\n",
    "    sleep(1)\n",
    "    password.send_keys(Keys.RETURN)\n",
    "    sleep(1)\n"
   ]
  },
  {
   "cell_type": "code",
   "execution_count": 144,
   "metadata": {
    "scrolled": true
   },
   "outputs": [],
   "source": [
    "#get your driver\n",
    "driver=get_driver()"
   ]
  },
  {
   "cell_type": "code",
   "execution_count": 145,
   "metadata": {},
   "outputs": [
    {
     "name": "stdout",
     "output_type": "stream",
     "text": [
      "········\n"
     ]
    }
   ],
   "source": [
    "my_password=getpass()"
   ]
  },
  {
   "cell_type": "code",
   "execution_count": 146,
   "metadata": {},
   "outputs": [],
   "source": [
    "#Login to your twitter account\n",
    "username='harpic17'\n"
   ]
  },
  {
   "cell_type": "code",
   "execution_count": 147,
   "metadata": {},
   "outputs": [],
   "source": [
    "login(driver,username,my_password)"
   ]
  },
  {
   "cell_type": "markdown",
   "metadata": {},
   "source": [
    "Problem: Its very important to be very specific with the names corresponding to different twitter accounts since we are going to access the account using this name only so any deviation fron the EXACT name will give us an exception."
   ]
  },
  {
   "cell_type": "markdown",
   "metadata": {},
   "source": [
    "## Important\n",
    "Twiiter randomly creates class names, i.e. they might regenerate once the cache is cleared. <br>\n",
    "So we can't rely on class name entirely."
   ]
  },
  {
   "cell_type": "code",
   "execution_count": 148,
   "metadata": {},
   "outputs": [],
   "source": [
    "def get_details(driver,n,test):\n",
    "    #Search for an account\n",
    "    \n",
    "    try:\n",
    "        driver.get('https://twitter.com/home')\n",
    "        search_input = WebDriverWait(driver, 5).until(\n",
    "        EC.presence_of_element_located((By.XPATH, '//input[@aria-label=\"Search query\"]'))\n",
    "        )\n",
    "#         search_input=driver.find_element('xpath','//input[@aria-label=\"Search query\"]')\n",
    "        search_input.clear()\n",
    "        sleep(1)\n",
    "        search_input.send_keys(n)\n",
    "        search_input.send_keys(Keys.RETURN)\n",
    "\n",
    "        people = WebDriverWait(driver, 5).until(\n",
    "        EC.presence_of_element_located((By.LINK_TEXT, \"People\"))\n",
    "        )\n",
    "        #Enter Shah Rukh Khan's profile\n",
    "    #         people=driver.find_element('link text','People')\n",
    "        people.click()\n",
    "\n",
    "        enter_profile = WebDriverWait(driver, 5).until(\n",
    "        EC.presence_of_element_located((By.LINK_TEXT, n))\n",
    "        )\n",
    "\n",
    "    #         enter_profile=driver.find_element('link text',n)\n",
    "        enter_profile.click()\n",
    "    except:\n",
    "        print(\"Couldn't Enter profile\",n)\n",
    "\n",
    "    sleep(3)\n",
    "    \n",
    "    \n",
    "\n",
    "    try:    \n",
    "        joining_date = WebDriverWait(driver, 5).until(\n",
    "        EC.presence_of_element_located((By.XPATH, './/span[@data-testid=\"UserJoinDate\"]/span'))\n",
    "        )\n",
    "#         joining_date=driver.find_element('xpath','.//span[@data-testid=\"UserJoinDate\"]/span')\n",
    "    #     print(joining_date.text)\n",
    "    except:\n",
    "        print(\"couldn't fetch joining date for : \",n)\n",
    "        joining_date=None\n",
    "        \n",
    "    try:\n",
    "        following = WebDriverWait(driver, 5).until(\n",
    "        EC.presence_of_element_located((By.CSS_SELECTOR,'a[href=\"/{handle}/following\"]'.format(handle=test)))\n",
    "        )\n",
    "#         following=driver.find_element('css selector','a[href=\"/{handle}/following\"]'.format(handle=test))\n",
    "    #     print(following.text)\n",
    "\n",
    "    except:\n",
    "        print(\"Couldn't fetch following\",n)\n",
    "        following=None\n",
    "    try:\n",
    "        followers = WebDriverWait(driver, 5).until(\n",
    "        EC.presence_of_element_located((By.CSS_SELECTOR,'a[href=\"/{handle}/followers\"]'.format(handle=test)))\n",
    "        )\n",
    "#         followers=driver.find_element('css selector','a[href=\"/{handle}/followers\"]'.format(handle=test))\n",
    "#         print(followers.text)\n",
    "    except:\n",
    "        print(\"Couldn't fetch data for \",n)\n",
    "        followers=None\n",
    "\n",
    "    return (n,joining_date.text,following.text,followers.text)\n",
    "\n",
    "    \n",
    "\n",
    "\n",
    "    \n",
    "    "
   ]
  },
  {
   "cell_type": "code",
   "execution_count": 149,
   "metadata": {},
   "outputs": [],
   "source": [
    "#Let's run the script 10 at a time\n",
    "# data=[]"
   ]
  },
  {
   "cell_type": "code",
   "execution_count": 150,
   "metadata": {
    "scrolled": true
   },
   "outputs": [],
   "source": [
    "# #retrieve data from each profile\n",
    "\n",
    "# for name,handle in tqdm(most_followed[49:]):\n",
    "     \n",
    "#     det=get_details(driver,name,handle)\n",
    "#     data.append(det)\n",
    "\n",
    "# # df=pd.DataFrame(data,columns=['Name','Joining_date','#Following','#Followers'])\n",
    "# # df.head()\n",
    "    "
   ]
  },
  {
   "cell_type": "code",
   "execution_count": 151,
   "metadata": {
    "scrolled": true
   },
   "outputs": [],
   "source": [
    "# print(len(data))"
   ]
  },
  {
   "cell_type": "code",
   "execution_count": 152,
   "metadata": {},
   "outputs": [],
   "source": [
    "# #Convert into a dataframe and stroe as a csv\n",
    "# df=pd.DataFrame(data,columns=['Name','Joining_Date','#Following','#Followers'])\n",
    "# df.head()"
   ]
  },
  {
   "cell_type": "code",
   "execution_count": 153,
   "metadata": {},
   "outputs": [],
   "source": [
    "# df.to_csv('Basic_info.csv',index=False)"
   ]
  },
  {
   "cell_type": "markdown",
   "metadata": {},
   "source": [
    "## Get tweets from each account"
   ]
  },
  {
   "cell_type": "code",
   "execution_count": 154,
   "metadata": {},
   "outputs": [],
   "source": [
    "def get_tweet_data(card):\n",
    "    \n",
    "    \"\"\"Extract data from tweet card\"\"\"\n",
    "    \n",
    "    username = card.find_element('xpath','.//span').text\n",
    "    try:\n",
    "        handle = card.find_element('xpath','.//span[contains(text(), \"@\")]').text\n",
    "    except NoSuchElementException:\n",
    "        return\n",
    "    \n",
    "    try:\n",
    "        postdate = card.find_element('xpath','.//time').get_attribute('datetime')\n",
    "#         print(postdate)\n",
    "#         print(type(postdate))\n",
    "        \n",
    "        postdate=datetime.fromisoformat(postdate[:-1]).astimezone(timezone.utc)\n",
    "        \n",
    "#         print(postdate)\n",
    "#         print(type(postdate))\n",
    "        \n",
    "    except NoSuchElementException:\n",
    "        return\n",
    "    \n",
    "    try:\n",
    "        comment = card.find_element('xpath','.//div[2]/div[2]/div[1]').text\n",
    "        responding = card.find_element('xpath','.//div[2]/div[2]/div[2]').text\n",
    "        text = comment + responding\n",
    "        reply_cnt = card.find_element('xpath','.//div[@data-testid=\"reply\"]').text\n",
    "        retweet_cnt = card.find_element('xpath','.//div[@data-testid=\"retweet\"]').text\n",
    "        like_cnt = card.find_element('xpath','.//div[@data-testid=\"like\"]').text\n",
    "    except:\n",
    "        print('Could not fetch data here')\n",
    "\n",
    "    \n",
    "    tweet = (username, handle, str(postdate), text, reply_cnt, retweet_cnt, like_cnt)\n",
    "    return tweet  "
   ]
  },
  {
   "cell_type": "code",
   "execution_count": 155,
   "metadata": {},
   "outputs": [],
   "source": [
    "# get all tweets on the page\n",
    "\n",
    "def get_all_tweets(driver):\n",
    "    \n",
    "    data = []\n",
    "    tweet_ids = set()\n",
    "    last_position = driver.execute_script(\"return window.pageYOffset;\")\n",
    "    scrolling = True\n",
    "\n",
    "    while scrolling:\n",
    "        \n",
    "        flag=False\n",
    "        \n",
    "        page_cards = driver.find_elements('xpath','//article[@data-testid=\"tweet\"]')\n",
    "        for card in page_cards[5:]:\n",
    "            tweet = get_tweet_data(card)\n",
    "            \n",
    "#             tweet_date=datetime.strptime(tweet[2].split(' ')[0], '%Y-%m-%d')\n",
    "            \n",
    "#             if tweet_date<Date:\n",
    "#                 flag=True\n",
    "#                 break\n",
    "            \n",
    "            if tweet:\n",
    "                tweet_id = ''.join(tweet)\n",
    "                if tweet_id not in tweet_ids:\n",
    "                    tweet_ids.add(tweet_id)\n",
    "                    data.append(tweet)\n",
    "        if flag:\n",
    "            break\n",
    "\n",
    "        scroll_attempt = 0\n",
    "        while True:\n",
    "            # check scroll position\n",
    "            driver.execute_script('window.scrollBy(0, 2000);')\n",
    "            sleep(1)\n",
    "            curr_position = driver.execute_script(\"return window.pageYOffset;\")\n",
    "            if last_position == curr_position:\n",
    "                scroll_attempt += 1\n",
    "\n",
    "                # end of scroll region\n",
    "                if scroll_attempt >= 3:\n",
    "                    scrolling = False\n",
    "                    break\n",
    "                else:\n",
    "                    sleep(1) # attempt another scroll\n",
    "            else:\n",
    "                last_position = curr_position\n",
    "                break\n",
    "    return data\n",
    "\n"
   ]
  },
  {
   "cell_type": "code",
   "execution_count": 156,
   "metadata": {},
   "outputs": [],
   "source": [
    "def get_tweets(driver,name):\n",
    "    \n",
    "    \n",
    "    #Search for an account\n",
    "    driver.get('https://twitter.com/home')\n",
    "    search_input = WebDriverWait(driver, 5).until(\n",
    "    EC.presence_of_element_located((By.XPATH, '//input[@aria-label=\"Search query\"]'))\n",
    "    )    \n",
    "#     search_input=driver.find_element('xpath','//input[@aria-label=\"Search query\"]')\n",
    "    search_input.send_keys(name)\n",
    "    search_input.send_keys(Keys.RETURN)\n",
    "    #Enter the profile\n",
    "    \n",
    "    enter_profile = WebDriverWait(driver, 5).until(\n",
    "    EC.presence_of_element_located((By.LINK_TEXT, name))\n",
    "    )\n",
    "\n",
    "#     enter_profile=driver.find_element('link text',name)\n",
    "    enter_profile.click()\n",
    "    \n",
    "    tweets=get_all_tweets(driver)\n",
    "    \n",
    "    return tweets\n",
    "       "
   ]
  },
  {
   "cell_type": "code",
   "execution_count": 157,
   "metadata": {},
   "outputs": [],
   "source": [
    "#Specify a date after which you want to read the tweets\n",
    "# Date=datetime(2019, 1, 1)"
   ]
  },
  {
   "cell_type": "code",
   "execution_count": 172,
   "metadata": {},
   "outputs": [],
   "source": [
    "#Let us extract tweets 55 at a time\n",
    "all_tweets=[]"
   ]
  },
  {
   "cell_type": "code",
   "execution_count": 173,
   "metadata": {
    "scrolled": true
   },
   "outputs": [
    {
     "name": "stderr",
     "output_type": "stream",
     "text": [
      " 95%|█████████▌| 19/20 [2:51:07<09:00, 540.39s/it]  \n"
     ]
    },
    {
     "ename": "ElementClickInterceptedException",
     "evalue": "Message: element click intercepted: Element <a href=\"/varun_ki_madhu/status/1567466898320916481/media_tags\" dir=\"auto\" role=\"link\" class=\"css-4rbku5 css-18t94o4 css-901oao r-1bwzh9t r-1loqt21 r-37j5jr r-n6v787 r-16dba41 r-1cwl3u0 r-bcqeeo r-qvutc0\">...</a> is not clickable at point (1776, 1706). Other element would receive the click: <img alt=\"\" draggable=\"false\" src=\"https://pbs.twimg.com/ext_tw_video_thumb/1567191144253235200/pu/img/ZVwjbGk_rRdOcw7i.jpg\" class=\"css-9pa8cd\">\n  (Session info: chrome=105.0.5195.102)\nStacktrace:\nBacktrace:\n\tOrdinal0 [0x003ADF13+2219795]\n\tOrdinal0 [0x00342841+1779777]\n\tOrdinal0 [0x0025423D+803389]\n\tOrdinal0 [0x002899D4+1022420]\n\tOrdinal0 [0x002878C4+1013956]\n\tOrdinal0 [0x002854AB+1004715]\n\tOrdinal0 [0x00284117+999703]\n\tOrdinal0 [0x00279B76+957302]\n\tOrdinal0 [0x0029E7FC+1107964]\n\tOrdinal0 [0x002794B4+955572]\n\tOrdinal0 [0x0029EA14+1108500]\n\tOrdinal0 [0x002AF192+1175954]\n\tOrdinal0 [0x0029E616+1107478]\n\tOrdinal0 [0x00277F89+950153]\n\tOrdinal0 [0x00278F56+954198]\n\tGetHandleVerifier [0x006A2CB2+3040210]\n\tGetHandleVerifier [0x00692BB4+2974420]\n\tGetHandleVerifier [0x00446A0A+565546]\n\tGetHandleVerifier [0x00445680+560544]\n\tOrdinal0 [0x00349A5C+1808988]\n\tOrdinal0 [0x0034E3A8+1827752]\n\tOrdinal0 [0x0034E495+1827989]\n\tOrdinal0 [0x003580A4+1867940]\n\tBaseThreadInitThunk [0x770E6739+25]\n\tRtlGetFullPathName_UEx [0x77A68FD2+1218]\n\tRtlGetFullPathName_UEx [0x77A68F9D+1165]\n",
     "output_type": "error",
     "traceback": [
      "\u001b[1;31m---------------------------------------------------------------------------\u001b[0m",
      "\u001b[1;31mElementClickInterceptedException\u001b[0m          Traceback (most recent call last)",
      "\u001b[1;32m<ipython-input-173-095053fb88a4>\u001b[0m in \u001b[0;36m<module>\u001b[1;34m\u001b[0m\n\u001b[0;32m      2\u001b[0m \u001b[1;32mfor\u001b[0m \u001b[0mname\u001b[0m\u001b[1;33m,\u001b[0m\u001b[0mhandle\u001b[0m \u001b[1;32min\u001b[0m \u001b[0mtqdm\u001b[0m\u001b[1;33m(\u001b[0m\u001b[0mmost_followed\u001b[0m\u001b[1;33m[\u001b[0m\u001b[1;36m30\u001b[0m\u001b[1;33m:\u001b[0m\u001b[1;33m]\u001b[0m\u001b[1;33m)\u001b[0m\u001b[1;33m:\u001b[0m\u001b[1;33m\u001b[0m\u001b[1;33m\u001b[0m\u001b[0m\n\u001b[0;32m      3\u001b[0m \u001b[1;33m\u001b[0m\u001b[0m\n\u001b[1;32m----> 4\u001b[1;33m     \u001b[0mt\u001b[0m\u001b[1;33m=\u001b[0m\u001b[0mget_tweets\u001b[0m\u001b[1;33m(\u001b[0m\u001b[0mdriver\u001b[0m\u001b[1;33m,\u001b[0m\u001b[0mname\u001b[0m\u001b[1;33m)\u001b[0m\u001b[1;33m\u001b[0m\u001b[1;33m\u001b[0m\u001b[0m\n\u001b[0m\u001b[0;32m      5\u001b[0m     \u001b[0mall_tweets\u001b[0m\u001b[1;33m.\u001b[0m\u001b[0mappend\u001b[0m\u001b[1;33m(\u001b[0m\u001b[0mt\u001b[0m\u001b[1;33m)\u001b[0m\u001b[1;33m\u001b[0m\u001b[1;33m\u001b[0m\u001b[0m\n\u001b[0;32m      6\u001b[0m \u001b[1;33m\u001b[0m\u001b[0m\n",
      "\u001b[1;32m<ipython-input-156-d491eb41b4e5>\u001b[0m in \u001b[0;36mget_tweets\u001b[1;34m(driver, name)\u001b[0m\n\u001b[0;32m     17\u001b[0m \u001b[1;33m\u001b[0m\u001b[0m\n\u001b[0;32m     18\u001b[0m \u001b[1;31m#     enter_profile=driver.find_element('link text',name)\u001b[0m\u001b[1;33m\u001b[0m\u001b[1;33m\u001b[0m\u001b[1;33m\u001b[0m\u001b[0m\n\u001b[1;32m---> 19\u001b[1;33m     \u001b[0menter_profile\u001b[0m\u001b[1;33m.\u001b[0m\u001b[0mclick\u001b[0m\u001b[1;33m(\u001b[0m\u001b[1;33m)\u001b[0m\u001b[1;33m\u001b[0m\u001b[1;33m\u001b[0m\u001b[0m\n\u001b[0m\u001b[0;32m     20\u001b[0m \u001b[1;33m\u001b[0m\u001b[0m\n\u001b[0;32m     21\u001b[0m     \u001b[0mtweets\u001b[0m\u001b[1;33m=\u001b[0m\u001b[0mget_all_tweets\u001b[0m\u001b[1;33m(\u001b[0m\u001b[0mdriver\u001b[0m\u001b[1;33m)\u001b[0m\u001b[1;33m\u001b[0m\u001b[1;33m\u001b[0m\u001b[0m\n",
      "\u001b[1;32m~\\anaconda3\\lib\\site-packages\\selenium\\webdriver\\remote\\webelement.py\u001b[0m in \u001b[0;36mclick\u001b[1;34m(self)\u001b[0m\n\u001b[0;32m     86\u001b[0m     \u001b[1;32mdef\u001b[0m \u001b[0mclick\u001b[0m\u001b[1;33m(\u001b[0m\u001b[0mself\u001b[0m\u001b[1;33m)\u001b[0m \u001b[1;33m->\u001b[0m \u001b[1;32mNone\u001b[0m\u001b[1;33m:\u001b[0m\u001b[1;33m\u001b[0m\u001b[1;33m\u001b[0m\u001b[0m\n\u001b[0;32m     87\u001b[0m         \u001b[1;34m\"\"\"Clicks the element.\"\"\"\u001b[0m\u001b[1;33m\u001b[0m\u001b[1;33m\u001b[0m\u001b[0m\n\u001b[1;32m---> 88\u001b[1;33m         \u001b[0mself\u001b[0m\u001b[1;33m.\u001b[0m\u001b[0m_execute\u001b[0m\u001b[1;33m(\u001b[0m\u001b[0mCommand\u001b[0m\u001b[1;33m.\u001b[0m\u001b[0mCLICK_ELEMENT\u001b[0m\u001b[1;33m)\u001b[0m\u001b[1;33m\u001b[0m\u001b[1;33m\u001b[0m\u001b[0m\n\u001b[0m\u001b[0;32m     89\u001b[0m \u001b[1;33m\u001b[0m\u001b[0m\n\u001b[0;32m     90\u001b[0m     \u001b[1;32mdef\u001b[0m \u001b[0msubmit\u001b[0m\u001b[1;33m(\u001b[0m\u001b[0mself\u001b[0m\u001b[1;33m)\u001b[0m\u001b[1;33m:\u001b[0m\u001b[1;33m\u001b[0m\u001b[1;33m\u001b[0m\u001b[0m\n",
      "\u001b[1;32m~\\anaconda3\\lib\\site-packages\\selenium\\webdriver\\remote\\webelement.py\u001b[0m in \u001b[0;36m_execute\u001b[1;34m(self, command, params)\u001b[0m\n\u001b[0;32m    394\u001b[0m             \u001b[0mparams\u001b[0m \u001b[1;33m=\u001b[0m \u001b[1;33m{\u001b[0m\u001b[1;33m}\u001b[0m\u001b[1;33m\u001b[0m\u001b[1;33m\u001b[0m\u001b[0m\n\u001b[0;32m    395\u001b[0m         \u001b[0mparams\u001b[0m\u001b[1;33m[\u001b[0m\u001b[1;34m'id'\u001b[0m\u001b[1;33m]\u001b[0m \u001b[1;33m=\u001b[0m \u001b[0mself\u001b[0m\u001b[1;33m.\u001b[0m\u001b[0m_id\u001b[0m\u001b[1;33m\u001b[0m\u001b[1;33m\u001b[0m\u001b[0m\n\u001b[1;32m--> 396\u001b[1;33m         \u001b[1;32mreturn\u001b[0m \u001b[0mself\u001b[0m\u001b[1;33m.\u001b[0m\u001b[0m_parent\u001b[0m\u001b[1;33m.\u001b[0m\u001b[0mexecute\u001b[0m\u001b[1;33m(\u001b[0m\u001b[0mcommand\u001b[0m\u001b[1;33m,\u001b[0m \u001b[0mparams\u001b[0m\u001b[1;33m)\u001b[0m\u001b[1;33m\u001b[0m\u001b[1;33m\u001b[0m\u001b[0m\n\u001b[0m\u001b[0;32m    397\u001b[0m \u001b[1;33m\u001b[0m\u001b[0m\n\u001b[0;32m    398\u001b[0m     \u001b[1;32mdef\u001b[0m \u001b[0mfind_element\u001b[0m\u001b[1;33m(\u001b[0m\u001b[0mself\u001b[0m\u001b[1;33m,\u001b[0m \u001b[0mby\u001b[0m\u001b[1;33m=\u001b[0m\u001b[0mBy\u001b[0m\u001b[1;33m.\u001b[0m\u001b[0mID\u001b[0m\u001b[1;33m,\u001b[0m \u001b[0mvalue\u001b[0m\u001b[1;33m=\u001b[0m\u001b[1;32mNone\u001b[0m\u001b[1;33m)\u001b[0m \u001b[1;33m->\u001b[0m \u001b[0mWebElement\u001b[0m\u001b[1;33m:\u001b[0m\u001b[1;33m\u001b[0m\u001b[1;33m\u001b[0m\u001b[0m\n",
      "\u001b[1;32m~\\anaconda3\\lib\\site-packages\\selenium\\webdriver\\remote\\webdriver.py\u001b[0m in \u001b[0;36mexecute\u001b[1;34m(self, driver_command, params)\u001b[0m\n\u001b[0;32m    426\u001b[0m         \u001b[0mresponse\u001b[0m \u001b[1;33m=\u001b[0m \u001b[0mself\u001b[0m\u001b[1;33m.\u001b[0m\u001b[0mcommand_executor\u001b[0m\u001b[1;33m.\u001b[0m\u001b[0mexecute\u001b[0m\u001b[1;33m(\u001b[0m\u001b[0mdriver_command\u001b[0m\u001b[1;33m,\u001b[0m \u001b[0mparams\u001b[0m\u001b[1;33m)\u001b[0m\u001b[1;33m\u001b[0m\u001b[1;33m\u001b[0m\u001b[0m\n\u001b[0;32m    427\u001b[0m         \u001b[1;32mif\u001b[0m \u001b[0mresponse\u001b[0m\u001b[1;33m:\u001b[0m\u001b[1;33m\u001b[0m\u001b[1;33m\u001b[0m\u001b[0m\n\u001b[1;32m--> 428\u001b[1;33m             \u001b[0mself\u001b[0m\u001b[1;33m.\u001b[0m\u001b[0merror_handler\u001b[0m\u001b[1;33m.\u001b[0m\u001b[0mcheck_response\u001b[0m\u001b[1;33m(\u001b[0m\u001b[0mresponse\u001b[0m\u001b[1;33m)\u001b[0m\u001b[1;33m\u001b[0m\u001b[1;33m\u001b[0m\u001b[0m\n\u001b[0m\u001b[0;32m    429\u001b[0m             response['value'] = self._unwrap_value(\n\u001b[0;32m    430\u001b[0m                 response.get('value', None))\n",
      "\u001b[1;32m~\\anaconda3\\lib\\site-packages\\selenium\\webdriver\\remote\\errorhandler.py\u001b[0m in \u001b[0;36mcheck_response\u001b[1;34m(self, response)\u001b[0m\n\u001b[0;32m    241\u001b[0m                 \u001b[0malert_text\u001b[0m \u001b[1;33m=\u001b[0m \u001b[0mvalue\u001b[0m\u001b[1;33m[\u001b[0m\u001b[1;34m'alert'\u001b[0m\u001b[1;33m]\u001b[0m\u001b[1;33m.\u001b[0m\u001b[0mget\u001b[0m\u001b[1;33m(\u001b[0m\u001b[1;34m'text'\u001b[0m\u001b[1;33m)\u001b[0m\u001b[1;33m\u001b[0m\u001b[1;33m\u001b[0m\u001b[0m\n\u001b[0;32m    242\u001b[0m             \u001b[1;32mraise\u001b[0m \u001b[0mexception_class\u001b[0m\u001b[1;33m(\u001b[0m\u001b[0mmessage\u001b[0m\u001b[1;33m,\u001b[0m \u001b[0mscreen\u001b[0m\u001b[1;33m,\u001b[0m \u001b[0mstacktrace\u001b[0m\u001b[1;33m,\u001b[0m \u001b[0malert_text\u001b[0m\u001b[1;33m)\u001b[0m  \u001b[1;31m# type: ignore[call-arg]  # mypy is not smart enough here\u001b[0m\u001b[1;33m\u001b[0m\u001b[1;33m\u001b[0m\u001b[0m\n\u001b[1;32m--> 243\u001b[1;33m         \u001b[1;32mraise\u001b[0m \u001b[0mexception_class\u001b[0m\u001b[1;33m(\u001b[0m\u001b[0mmessage\u001b[0m\u001b[1;33m,\u001b[0m \u001b[0mscreen\u001b[0m\u001b[1;33m,\u001b[0m \u001b[0mstacktrace\u001b[0m\u001b[1;33m)\u001b[0m\u001b[1;33m\u001b[0m\u001b[1;33m\u001b[0m\u001b[0m\n\u001b[0m",
      "\u001b[1;31mElementClickInterceptedException\u001b[0m: Message: element click intercepted: Element <a href=\"/varun_ki_madhu/status/1567466898320916481/media_tags\" dir=\"auto\" role=\"link\" class=\"css-4rbku5 css-18t94o4 css-901oao r-1bwzh9t r-1loqt21 r-37j5jr r-n6v787 r-16dba41 r-1cwl3u0 r-bcqeeo r-qvutc0\">...</a> is not clickable at point (1776, 1706). Other element would receive the click: <img alt=\"\" draggable=\"false\" src=\"https://pbs.twimg.com/ext_tw_video_thumb/1567191144253235200/pu/img/ZVwjbGk_rRdOcw7i.jpg\" class=\"css-9pa8cd\">\n  (Session info: chrome=105.0.5195.102)\nStacktrace:\nBacktrace:\n\tOrdinal0 [0x003ADF13+2219795]\n\tOrdinal0 [0x00342841+1779777]\n\tOrdinal0 [0x0025423D+803389]\n\tOrdinal0 [0x002899D4+1022420]\n\tOrdinal0 [0x002878C4+1013956]\n\tOrdinal0 [0x002854AB+1004715]\n\tOrdinal0 [0x00284117+999703]\n\tOrdinal0 [0x00279B76+957302]\n\tOrdinal0 [0x0029E7FC+1107964]\n\tOrdinal0 [0x002794B4+955572]\n\tOrdinal0 [0x0029EA14+1108500]\n\tOrdinal0 [0x002AF192+1175954]\n\tOrdinal0 [0x0029E616+1107478]\n\tOrdinal0 [0x00277F89+950153]\n\tOrdinal0 [0x00278F56+954198]\n\tGetHandleVerifier [0x006A2CB2+3040210]\n\tGetHandleVerifier [0x00692BB4+2974420]\n\tGetHandleVerifier [0x00446A0A+565546]\n\tGetHandleVerifier [0x00445680+560544]\n\tOrdinal0 [0x00349A5C+1808988]\n\tOrdinal0 [0x0034E3A8+1827752]\n\tOrdinal0 [0x0034E495+1827989]\n\tOrdinal0 [0x003580A4+1867940]\n\tBaseThreadInitThunk [0x770E6739+25]\n\tRtlGetFullPathName_UEx [0x77A68FD2+1218]\n\tRtlGetFullPathName_UEx [0x77A68F9D+1165]\n"
     ]
    }
   ],
   "source": [
    "#A dataframe containing tweets of all handles\n",
    "for name,handle in tqdm(most_followed[30:]):\n",
    "    \n",
    "    t=get_tweets(driver,name)\n",
    "    all_tweets.append(t)\n",
    "    "
   ]
  },
  {
   "cell_type": "code",
   "execution_count": 161,
   "metadata": {},
   "outputs": [
    {
     "data": {
      "text/plain": [
       "('Yogi Adityanath', 'myogiadityanath')"
      ]
     },
     "execution_count": 161,
     "metadata": {},
     "output_type": "execute_result"
    }
   ],
   "source": [
    "most_followed[11]"
   ]
  },
  {
   "cell_type": "code",
   "execution_count": 160,
   "metadata": {
    "scrolled": false
   },
   "outputs": [
    {
     "name": "stdout",
     "output_type": "stream",
     "text": [
      "75\n",
      "0\n",
      "949\n",
      "1039\n",
      "942\n",
      "990\n",
      "1096\n",
      "922\n",
      "819\n",
      "791\n",
      "1021\n",
      "881\n",
      "974\n",
      "970\n",
      "1004\n",
      "1132\n",
      "974\n",
      "930\n",
      "116\n",
      "1006\n"
     ]
    }
   ],
   "source": [
    "for l in all_tweets:\n",
    "    print(len(l))"
   ]
  },
  {
   "cell_type": "code",
   "execution_count": 162,
   "metadata": {},
   "outputs": [],
   "source": [
    "temp=[]\n"
   ]
  },
  {
   "cell_type": "code",
   "execution_count": 163,
   "metadata": {},
   "outputs": [],
   "source": [
    "for t in all_tweets:\n",
    "    for i in t:\n",
    "        temp.append(i)"
   ]
  },
  {
   "cell_type": "code",
   "execution_count": null,
   "metadata": {},
   "outputs": [],
   "source": []
  },
  {
   "cell_type": "code",
   "execution_count": 164,
   "metadata": {},
   "outputs": [
    {
     "data": {
      "text/plain": [
       "16631"
      ]
     },
     "execution_count": 164,
     "metadata": {},
     "output_type": "execute_result"
    }
   ],
   "source": [
    "len(temp)"
   ]
  },
  {
   "cell_type": "code",
   "execution_count": 167,
   "metadata": {
    "scrolled": false
   },
   "outputs": [
    {
     "data": {
      "text/plain": [
       "('Rajnath Singh', 'rajnathsingh')"
      ]
     },
     "execution_count": 167,
     "metadata": {},
     "output_type": "execute_result"
    }
   ],
   "source": [
    "# print(all_tweets[0])\n",
    "most_followed[29]"
   ]
  },
  {
   "cell_type": "code",
   "execution_count": 168,
   "metadata": {},
   "outputs": [
    {
     "data": {
      "text/html": [
       "<div>\n",
       "<style scoped>\n",
       "    .dataframe tbody tr th:only-of-type {\n",
       "        vertical-align: middle;\n",
       "    }\n",
       "\n",
       "    .dataframe tbody tr th {\n",
       "        vertical-align: top;\n",
       "    }\n",
       "\n",
       "    .dataframe thead th {\n",
       "        text-align: right;\n",
       "    }\n",
       "</style>\n",
       "<table border=\"1\" class=\"dataframe\">\n",
       "  <thead>\n",
       "    <tr style=\"text-align: right;\">\n",
       "      <th></th>\n",
       "      <th>username</th>\n",
       "      <th>handle</th>\n",
       "      <th>postdate</th>\n",
       "      <th>text</th>\n",
       "      <th>reply_cnt</th>\n",
       "      <th>retweet_cnt</th>\n",
       "      <th>like_cnt</th>\n",
       "    </tr>\n",
       "  </thead>\n",
       "  <tbody>\n",
       "    <tr>\n",
       "      <th>16626</th>\n",
       "      <td>Rajnath Singh</td>\n",
       "      <td>@rajnathsingh</td>\n",
       "      <td>2022-04-07 02:20:32+00:00</td>\n",
       "      <td>Rajnath Singh\\n@rajnathsingh\\n·\\nApr 7Our obje...</td>\n",
       "      <td>49</td>\n",
       "      <td>283</td>\n",
       "      <td>1,254</td>\n",
       "    </tr>\n",
       "    <tr>\n",
       "      <th>16627</th>\n",
       "      <td>Rajnath Singh Retweeted</td>\n",
       "      <td>@narendramodi</td>\n",
       "      <td>2022-04-06 20:12:11+00:00</td>\n",
       "      <td>Narendra Modi\\n@narendramodi\\n·\\nApr 7आरोग्यं ...</td>\n",
       "      <td>1,200</td>\n",
       "      <td>6,158</td>\n",
       "      <td>30.1K</td>\n",
       "    </tr>\n",
       "    <tr>\n",
       "      <th>16628</th>\n",
       "      <td>Rajnath Singh</td>\n",
       "      <td>@rajnathsingh</td>\n",
       "      <td>2022-04-06 22:09:09+00:00</td>\n",
       "      <td>Rajnath Singh\\n@rajnathsingh\\n·\\nApr 7My greet...</td>\n",
       "      <td>56</td>\n",
       "      <td>270</td>\n",
       "      <td>1,977</td>\n",
       "    </tr>\n",
       "    <tr>\n",
       "      <th>16629</th>\n",
       "      <td>Rajnath Singh</td>\n",
       "      <td>@rajnathsingh</td>\n",
       "      <td>2022-04-07 02:20:32+00:00</td>\n",
       "      <td>Rajnath Singh\\n@rajnathsingh\\n·\\nApr 7Our obje...</td>\n",
       "      <td>49</td>\n",
       "      <td>283</td>\n",
       "      <td>1,254</td>\n",
       "    </tr>\n",
       "    <tr>\n",
       "      <th>16630</th>\n",
       "      <td>Rajnath Singh</td>\n",
       "      <td>@rajnathsingh</td>\n",
       "      <td>2022-04-07 02:20:32+00:00</td>\n",
       "      <td>Rajnath Singh\\n@rajnathsingh\\n·\\nApr 7Our obje...</td>\n",
       "      <td>49</td>\n",
       "      <td>283</td>\n",
       "      <td>1,254</td>\n",
       "    </tr>\n",
       "  </tbody>\n",
       "</table>\n",
       "</div>"
      ],
      "text/plain": [
       "                      username         handle                   postdate  \\\n",
       "16626            Rajnath Singh  @rajnathsingh  2022-04-07 02:20:32+00:00   \n",
       "16627  Rajnath Singh Retweeted  @narendramodi  2022-04-06 20:12:11+00:00   \n",
       "16628            Rajnath Singh  @rajnathsingh  2022-04-06 22:09:09+00:00   \n",
       "16629            Rajnath Singh  @rajnathsingh  2022-04-07 02:20:32+00:00   \n",
       "16630            Rajnath Singh  @rajnathsingh  2022-04-07 02:20:32+00:00   \n",
       "\n",
       "                                                    text reply_cnt  \\\n",
       "16626  Rajnath Singh\\n@rajnathsingh\\n·\\nApr 7Our obje...        49   \n",
       "16627  Narendra Modi\\n@narendramodi\\n·\\nApr 7आरोग्यं ...     1,200   \n",
       "16628  Rajnath Singh\\n@rajnathsingh\\n·\\nApr 7My greet...        56   \n",
       "16629  Rajnath Singh\\n@rajnathsingh\\n·\\nApr 7Our obje...        49   \n",
       "16630  Rajnath Singh\\n@rajnathsingh\\n·\\nApr 7Our obje...        49   \n",
       "\n",
       "      retweet_cnt like_cnt  \n",
       "16626         283    1,254  \n",
       "16627       6,158    30.1K  \n",
       "16628         270    1,977  \n",
       "16629         283    1,254  \n",
       "16630         283    1,254  "
      ]
     },
     "execution_count": 168,
     "metadata": {},
     "output_type": "execute_result"
    }
   ],
   "source": [
    "df_harbhajan=pd.DataFrame(temp,columns=['username', 'handle', 'postdate', 'text', 'reply_cnt', 'retweet_cnt', 'like_cnt'])\n",
    "df_harbhajan.to_csv('info_10_29.csv',index=None)\n",
    "df_harbhajan.tail()"
   ]
  },
  {
   "cell_type": "code",
   "execution_count": null,
   "metadata": {},
   "outputs": [],
   "source": [
    "for i in all_tweets:\n",
    "    print(len(i))"
   ]
  },
  {
   "cell_type": "code",
   "execution_count": null,
   "metadata": {},
   "outputs": [],
   "source": [
    "# tweets=driver.find_elements('xpath','//article[@data-testid=\"tweet\"]')"
   ]
  },
  {
   "cell_type": "code",
   "execution_count": null,
   "metadata": {},
   "outputs": [],
   "source": [
    "# len(tweets)"
   ]
  },
  {
   "cell_type": "code",
   "execution_count": null,
   "metadata": {},
   "outputs": [],
   "source": []
  },
  {
   "cell_type": "code",
   "execution_count": null,
   "metadata": {},
   "outputs": [],
   "source": [
    "tf=pd.DataFrame(data)\n",
    "tf.shape"
   ]
  },
  {
   "cell_type": "code",
   "execution_count": null,
   "metadata": {},
   "outputs": [],
   "source": [
    "tf.he"
   ]
  }
 ],
 "metadata": {
  "kernelspec": {
   "display_name": "Python 3",
   "language": "python",
   "name": "python3"
  },
  "language_info": {
   "codemirror_mode": {
    "name": "ipython",
    "version": 3
   },
   "file_extension": ".py",
   "mimetype": "text/x-python",
   "name": "python",
   "nbconvert_exporter": "python",
   "pygments_lexer": "ipython3",
   "version": "3.8.5"
  }
 },
 "nbformat": 4,
 "nbformat_minor": 5
}
