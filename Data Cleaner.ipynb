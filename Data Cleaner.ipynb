{
 "cells": [
  {
   "cell_type": "code",
   "execution_count": 152,
   "id": "7606a457",
   "metadata": {},
   "outputs": [],
   "source": [
    "import numpy as np\n",
    "import pandas as pd\n",
    "import matplotlib.pyplot as plt\n",
    "import seaborn as sns\n",
    "import datetime as dt"
   ]
  },
  {
   "cell_type": "code",
   "execution_count": 153,
   "id": "099c7994",
   "metadata": {
    "scrolled": true
   },
   "outputs": [
    {
     "data": {
      "text/html": [
       "<div>\n",
       "<style scoped>\n",
       "    .dataframe tbody tr th:only-of-type {\n",
       "        vertical-align: middle;\n",
       "    }\n",
       "\n",
       "    .dataframe tbody tr th {\n",
       "        vertical-align: top;\n",
       "    }\n",
       "\n",
       "    .dataframe thead th {\n",
       "        text-align: right;\n",
       "    }\n",
       "</style>\n",
       "<table border=\"1\" class=\"dataframe\">\n",
       "  <thead>\n",
       "    <tr style=\"text-align: right;\">\n",
       "      <th></th>\n",
       "      <th>Name</th>\n",
       "      <th>Joining_Date</th>\n",
       "      <th>#Following</th>\n",
       "      <th>#Followers</th>\n",
       "      <th>#Total_tweets</th>\n",
       "    </tr>\n",
       "  </thead>\n",
       "  <tbody>\n",
       "    <tr>\n",
       "      <th>0</th>\n",
       "      <td>Virat Kohli</td>\n",
       "      <td>Joined September 2009</td>\n",
       "      <td>65 Following</td>\n",
       "      <td>49.7M Followers</td>\n",
       "      <td>2,672 Tweets</td>\n",
       "    </tr>\n",
       "    <tr>\n",
       "      <th>1</th>\n",
       "      <td>Harbhajan Turbanator</td>\n",
       "      <td>Joined November 2009</td>\n",
       "      <td>213 Following</td>\n",
       "      <td>11.7M Followers</td>\n",
       "      <td>10.2K Tweets</td>\n",
       "    </tr>\n",
       "    <tr>\n",
       "      <th>2</th>\n",
       "      <td>BJP</td>\n",
       "      <td>Joined October 2010</td>\n",
       "      <td>3 Following</td>\n",
       "      <td>19M Followers</td>\n",
       "      <td>233.5K Tweets</td>\n",
       "    </tr>\n",
       "    <tr>\n",
       "      <th>3</th>\n",
       "      <td>Riteish Deshmukh</td>\n",
       "      <td>Joined July 2009</td>\n",
       "      <td>320 Following</td>\n",
       "      <td>11.3M Followers</td>\n",
       "      <td>28.8K Tweets</td>\n",
       "    </tr>\n",
       "    <tr>\n",
       "      <th>4</th>\n",
       "      <td>Kiran Bedi</td>\n",
       "      <td>Joined August 2009</td>\n",
       "      <td>413 Following</td>\n",
       "      <td>12.2M Followers</td>\n",
       "      <td>38.5K Tweets</td>\n",
       "    </tr>\n",
       "  </tbody>\n",
       "</table>\n",
       "</div>"
      ],
      "text/plain": [
       "                   Name           Joining_Date     #Following  \\\n",
       "0           Virat Kohli  Joined September 2009   65 Following   \n",
       "1  Harbhajan Turbanator   Joined November 2009  213 Following   \n",
       "2                   BJP    Joined October 2010    3 Following   \n",
       "3      Riteish Deshmukh       Joined July 2009  320 Following   \n",
       "4            Kiran Bedi     Joined August 2009  413 Following   \n",
       "\n",
       "        #Followers  #Total_tweets  \n",
       "0  49.7M Followers   2,672 Tweets  \n",
       "1  11.7M Followers   10.2K Tweets  \n",
       "2    19M Followers  233.5K Tweets  \n",
       "3  11.3M Followers   28.8K Tweets  \n",
       "4  12.2M Followers   38.5K Tweets  "
      ]
     },
     "execution_count": 153,
     "metadata": {},
     "output_type": "execute_result"
    }
   ],
   "source": [
    "#Clean the basic info file\n",
    "df=pd.read_csv('Basic_info.csv')\n",
    "df.head()"
   ]
  },
  {
   "cell_type": "code",
   "execution_count": 154,
   "id": "23ed4fad",
   "metadata": {},
   "outputs": [
    {
     "data": {
      "text/plain": [
       "(50, 5)"
      ]
     },
     "execution_count": 154,
     "metadata": {},
     "output_type": "execute_result"
    }
   ],
   "source": [
    "#Let's see the shape\n",
    "df.shape"
   ]
  },
  {
   "cell_type": "code",
   "execution_count": 155,
   "id": "57b44040",
   "metadata": {},
   "outputs": [
    {
     "data": {
      "text/plain": [
       "Index(['Name', 'Joining_Date', '#Following', '#Followers', '#Total_tweets'], dtype='object')"
      ]
     },
     "execution_count": 155,
     "metadata": {},
     "output_type": "execute_result"
    }
   ],
   "source": [
    "#Let's see the columns\n",
    "df.columns"
   ]
  },
  {
   "cell_type": "markdown",
   "id": "825ac8bd",
   "metadata": {},
   "source": [
    "Well, the columns are self explanatory."
   ]
  },
  {
   "cell_type": "code",
   "execution_count": 156,
   "id": "bcc946b9",
   "metadata": {
    "scrolled": true
   },
   "outputs": [
    {
     "data": {
      "text/html": [
       "<div>\n",
       "<style scoped>\n",
       "    .dataframe tbody tr th:only-of-type {\n",
       "        vertical-align: middle;\n",
       "    }\n",
       "\n",
       "    .dataframe tbody tr th {\n",
       "        vertical-align: top;\n",
       "    }\n",
       "\n",
       "    .dataframe thead th {\n",
       "        text-align: right;\n",
       "    }\n",
       "</style>\n",
       "<table border=\"1\" class=\"dataframe\">\n",
       "  <thead>\n",
       "    <tr style=\"text-align: right;\">\n",
       "      <th></th>\n",
       "      <th>Name</th>\n",
       "      <th>Joining_Date</th>\n",
       "      <th>#Following</th>\n",
       "      <th>#Followers</th>\n",
       "      <th>#Total_tweets</th>\n",
       "    </tr>\n",
       "  </thead>\n",
       "  <tbody>\n",
       "    <tr>\n",
       "      <th>count</th>\n",
       "      <td>50</td>\n",
       "      <td>50</td>\n",
       "      <td>50</td>\n",
       "      <td>50</td>\n",
       "      <td>50</td>\n",
       "    </tr>\n",
       "    <tr>\n",
       "      <th>unique</th>\n",
       "      <td>50</td>\n",
       "      <td>30</td>\n",
       "      <td>47</td>\n",
       "      <td>46</td>\n",
       "      <td>48</td>\n",
       "    </tr>\n",
       "    <tr>\n",
       "      <th>top</th>\n",
       "      <td>Virat Kohli</td>\n",
       "      <td>Joined April 2010</td>\n",
       "      <td>275 Following</td>\n",
       "      <td>12.8M Followers</td>\n",
       "      <td>10.2K Tweets</td>\n",
       "    </tr>\n",
       "    <tr>\n",
       "      <th>freq</th>\n",
       "      <td>1</td>\n",
       "      <td>5</td>\n",
       "      <td>2</td>\n",
       "      <td>2</td>\n",
       "      <td>2</td>\n",
       "    </tr>\n",
       "  </tbody>\n",
       "</table>\n",
       "</div>"
      ],
      "text/plain": [
       "               Name       Joining_Date     #Following       #Followers  \\\n",
       "count            50                 50             50               50   \n",
       "unique           50                 30             47               46   \n",
       "top     Virat Kohli  Joined April 2010  275 Following  12.8M Followers   \n",
       "freq              1                  5              2                2   \n",
       "\n",
       "       #Total_tweets  \n",
       "count             50  \n",
       "unique            48  \n",
       "top     10.2K Tweets  \n",
       "freq               2  "
      ]
     },
     "execution_count": 156,
     "metadata": {},
     "output_type": "execute_result"
    }
   ],
   "source": [
    "#Let's get summary about out data\n",
    "df.describe()"
   ]
  },
  {
   "cell_type": "markdown",
   "id": "1eb6d3f4",
   "metadata": {},
   "source": [
    "Seems like we have scrapped the data quite well and don't have any null entries"
   ]
  },
  {
   "cell_type": "code",
   "execution_count": 157,
   "id": "e1f5c25a",
   "metadata": {
    "scrolled": true
   },
   "outputs": [
    {
     "data": {
      "text/plain": [
       "Name             object\n",
       "Joining_Date     object\n",
       "#Following       object\n",
       "#Followers       object\n",
       "#Total_tweets    object\n",
       "dtype: object"
      ]
     },
     "execution_count": 157,
     "metadata": {},
     "output_type": "execute_result"
    }
   ],
   "source": [
    "#What are the types of our columns\n",
    "df.dtypes"
   ]
  },
  {
   "cell_type": "markdown",
   "id": "39be4625",
   "metadata": {},
   "source": [
    "### This doesn't work well for our intended analysis\n",
    "We would want<br>\n",
    "Name= String<br>\n",
    "Joining_Date= Datetype<br>\n",
    "all else = int<br>"
   ]
  },
  {
   "cell_type": "code",
   "execution_count": 158,
   "id": "86684275",
   "metadata": {},
   "outputs": [],
   "source": [
    "def use_strip(a):\n",
    "    return a.strip('Joined')"
   ]
  },
  {
   "cell_type": "code",
   "execution_count": 159,
   "id": "00b35b43",
   "metadata": {
    "scrolled": true
   },
   "outputs": [
    {
     "data": {
      "text/html": [
       "<div>\n",
       "<style scoped>\n",
       "    .dataframe tbody tr th:only-of-type {\n",
       "        vertical-align: middle;\n",
       "    }\n",
       "\n",
       "    .dataframe tbody tr th {\n",
       "        vertical-align: top;\n",
       "    }\n",
       "\n",
       "    .dataframe thead th {\n",
       "        text-align: right;\n",
       "    }\n",
       "</style>\n",
       "<table border=\"1\" class=\"dataframe\">\n",
       "  <thead>\n",
       "    <tr style=\"text-align: right;\">\n",
       "      <th></th>\n",
       "      <th>Name</th>\n",
       "      <th>Joining_Date</th>\n",
       "      <th>#Following</th>\n",
       "      <th>#Followers</th>\n",
       "      <th>#Total_tweets</th>\n",
       "    </tr>\n",
       "  </thead>\n",
       "  <tbody>\n",
       "    <tr>\n",
       "      <th>0</th>\n",
       "      <td>Virat Kohli</td>\n",
       "      <td>2009-09-01</td>\n",
       "      <td>65 Following</td>\n",
       "      <td>49.7M Followers</td>\n",
       "      <td>2,672 Tweets</td>\n",
       "    </tr>\n",
       "    <tr>\n",
       "      <th>1</th>\n",
       "      <td>Harbhajan Turbanator</td>\n",
       "      <td>2009-11-01</td>\n",
       "      <td>213 Following</td>\n",
       "      <td>11.7M Followers</td>\n",
       "      <td>10.2K Tweets</td>\n",
       "    </tr>\n",
       "    <tr>\n",
       "      <th>2</th>\n",
       "      <td>BJP</td>\n",
       "      <td>2010-10-01</td>\n",
       "      <td>3 Following</td>\n",
       "      <td>19M Followers</td>\n",
       "      <td>233.5K Tweets</td>\n",
       "    </tr>\n",
       "    <tr>\n",
       "      <th>3</th>\n",
       "      <td>Riteish Deshmukh</td>\n",
       "      <td>2009-07-01</td>\n",
       "      <td>320 Following</td>\n",
       "      <td>11.3M Followers</td>\n",
       "      <td>28.8K Tweets</td>\n",
       "    </tr>\n",
       "    <tr>\n",
       "      <th>4</th>\n",
       "      <td>Kiran Bedi</td>\n",
       "      <td>2009-08-01</td>\n",
       "      <td>413 Following</td>\n",
       "      <td>12.2M Followers</td>\n",
       "      <td>38.5K Tweets</td>\n",
       "    </tr>\n",
       "  </tbody>\n",
       "</table>\n",
       "</div>"
      ],
      "text/plain": [
       "                   Name Joining_Date     #Following       #Followers  \\\n",
       "0           Virat Kohli   2009-09-01   65 Following  49.7M Followers   \n",
       "1  Harbhajan Turbanator   2009-11-01  213 Following  11.7M Followers   \n",
       "2                   BJP   2010-10-01    3 Following    19M Followers   \n",
       "3      Riteish Deshmukh   2009-07-01  320 Following  11.3M Followers   \n",
       "4            Kiran Bedi   2009-08-01  413 Following  12.2M Followers   \n",
       "\n",
       "   #Total_tweets  \n",
       "0   2,672 Tweets  \n",
       "1   10.2K Tweets  \n",
       "2  233.5K Tweets  \n",
       "3   28.8K Tweets  \n",
       "4   38.5K Tweets  "
      ]
     },
     "execution_count": 159,
     "metadata": {},
     "output_type": "execute_result"
    }
   ],
   "source": [
    "#Convert into datetime format\n",
    "key='Joined'\n",
    "df['Joining_Date']=df['Joining_Date'].apply(use_strip)\n",
    "df['Joining_Date'] = pd.to_datetime(df['Joining_Date'])\n",
    "df.head()"
   ]
  },
  {
   "cell_type": "code",
   "execution_count": 160,
   "id": "a50b47cb",
   "metadata": {},
   "outputs": [],
   "source": [
    "def clean_following(a):\n",
    "    return a.strip('Following')\n",
    "\n",
    "def clean_followers(a):\n",
    "    return a.strip('Followers')\n",
    "\n",
    "def clean_tweets(a):\n",
    "    return a.strip('Tweets')"
   ]
  },
  {
   "cell_type": "code",
   "execution_count": 161,
   "id": "e990fab2",
   "metadata": {
    "scrolled": true
   },
   "outputs": [
    {
     "data": {
      "text/html": [
       "<div>\n",
       "<style scoped>\n",
       "    .dataframe tbody tr th:only-of-type {\n",
       "        vertical-align: middle;\n",
       "    }\n",
       "\n",
       "    .dataframe tbody tr th {\n",
       "        vertical-align: top;\n",
       "    }\n",
       "\n",
       "    .dataframe thead th {\n",
       "        text-align: right;\n",
       "    }\n",
       "</style>\n",
       "<table border=\"1\" class=\"dataframe\">\n",
       "  <thead>\n",
       "    <tr style=\"text-align: right;\">\n",
       "      <th></th>\n",
       "      <th>Name</th>\n",
       "      <th>Joining_Date</th>\n",
       "      <th>#Following</th>\n",
       "      <th>#Followers</th>\n",
       "      <th>#Total_tweets</th>\n",
       "    </tr>\n",
       "  </thead>\n",
       "  <tbody>\n",
       "    <tr>\n",
       "      <th>0</th>\n",
       "      <td>Virat Kohli</td>\n",
       "      <td>2009-09-01</td>\n",
       "      <td>65</td>\n",
       "      <td>49.7M</td>\n",
       "      <td>2,672</td>\n",
       "    </tr>\n",
       "    <tr>\n",
       "      <th>1</th>\n",
       "      <td>Harbhajan Turbanator</td>\n",
       "      <td>2009-11-01</td>\n",
       "      <td>213</td>\n",
       "      <td>11.7M</td>\n",
       "      <td>10.2K</td>\n",
       "    </tr>\n",
       "    <tr>\n",
       "      <th>2</th>\n",
       "      <td>BJP</td>\n",
       "      <td>2010-10-01</td>\n",
       "      <td>3</td>\n",
       "      <td>19M</td>\n",
       "      <td>233.5K</td>\n",
       "    </tr>\n",
       "    <tr>\n",
       "      <th>3</th>\n",
       "      <td>Riteish Deshmukh</td>\n",
       "      <td>2009-07-01</td>\n",
       "      <td>320</td>\n",
       "      <td>11.3M</td>\n",
       "      <td>28.8K</td>\n",
       "    </tr>\n",
       "    <tr>\n",
       "      <th>4</th>\n",
       "      <td>Kiran Bedi</td>\n",
       "      <td>2009-08-01</td>\n",
       "      <td>413</td>\n",
       "      <td>12.2M</td>\n",
       "      <td>38.5K</td>\n",
       "    </tr>\n",
       "  </tbody>\n",
       "</table>\n",
       "</div>"
      ],
      "text/plain": [
       "                   Name Joining_Date #Following #Followers #Total_tweets\n",
       "0           Virat Kohli   2009-09-01        65      49.7M         2,672 \n",
       "1  Harbhajan Turbanator   2009-11-01       213      11.7M         10.2K \n",
       "2                   BJP   2010-10-01         3        19M        233.5K \n",
       "3      Riteish Deshmukh   2009-07-01       320      11.3M         28.8K \n",
       "4            Kiran Bedi   2009-08-01       413      12.2M         38.5K "
      ]
     },
     "execution_count": 161,
     "metadata": {},
     "output_type": "execute_result"
    }
   ],
   "source": [
    "#Convert other columns into required format\n",
    "df['#Following']=df['#Following'].apply(clean_following)\n",
    "df['#Followers']=df['#Followers'].apply(clean_followers)\n",
    "df['#Total_tweets']=df['#Total_tweets'].apply(clean_tweets)\n",
    "df.head()"
   ]
  },
  {
   "cell_type": "code",
   "execution_count": 162,
   "id": "1dee76aa",
   "metadata": {},
   "outputs": [
    {
     "data": {
      "text/plain": [
       "Name                            NDTV\n",
       "Joining_Date     2009-05-01 00:00:00\n",
       "#Following                       14 \n",
       "#Followers                    17.3M \n",
       "#Total_tweets                    1M \n",
       "Name: 20, dtype: object"
      ]
     },
     "execution_count": 162,
     "metadata": {},
     "output_type": "execute_result"
    }
   ],
   "source": [
    "df.iloc[20]"
   ]
  },
  {
   "cell_type": "code",
   "execution_count": 163,
   "id": "5bdec82e",
   "metadata": {},
   "outputs": [],
   "source": [
    "#Now I need to convert these values into valid numbers\n",
    "#Problem: The values are not consistent some are in thousands, ten thousands and some in millions"
   ]
  },
  {
   "cell_type": "code",
   "execution_count": 164,
   "id": "53b170e7",
   "metadata": {},
   "outputs": [],
   "source": [
    "def to_number(a):\n",
    "    value={'B':1,'M':1000000,'K':1000}  \n",
    "    mul='B'\n",
    "    a_convert=\"\"\n",
    "    \n",
    "    for l in a:  \n",
    "        if l in value:\n",
    "            mul=l\n",
    "        elif(l!=','):\n",
    "            a_convert=a_convert+l\n",
    "    return int(float(a_convert)*value[mul])\n",
    "            "
   ]
  },
  {
   "cell_type": "code",
   "execution_count": 165,
   "id": "0875444b",
   "metadata": {},
   "outputs": [
    {
     "data": {
      "text/html": [
       "<div>\n",
       "<style scoped>\n",
       "    .dataframe tbody tr th:only-of-type {\n",
       "        vertical-align: middle;\n",
       "    }\n",
       "\n",
       "    .dataframe tbody tr th {\n",
       "        vertical-align: top;\n",
       "    }\n",
       "\n",
       "    .dataframe thead th {\n",
       "        text-align: right;\n",
       "    }\n",
       "</style>\n",
       "<table border=\"1\" class=\"dataframe\">\n",
       "  <thead>\n",
       "    <tr style=\"text-align: right;\">\n",
       "      <th></th>\n",
       "      <th>Name</th>\n",
       "      <th>Joining_Date</th>\n",
       "      <th>#Following</th>\n",
       "      <th>#Followers</th>\n",
       "      <th>#Total_tweets</th>\n",
       "    </tr>\n",
       "  </thead>\n",
       "  <tbody>\n",
       "    <tr>\n",
       "      <th>0</th>\n",
       "      <td>Virat Kohli</td>\n",
       "      <td>2009-09-01</td>\n",
       "      <td>65</td>\n",
       "      <td>49700000</td>\n",
       "      <td>2672</td>\n",
       "    </tr>\n",
       "    <tr>\n",
       "      <th>1</th>\n",
       "      <td>Harbhajan Turbanator</td>\n",
       "      <td>2009-11-01</td>\n",
       "      <td>213</td>\n",
       "      <td>11700000</td>\n",
       "      <td>10200</td>\n",
       "    </tr>\n",
       "    <tr>\n",
       "      <th>2</th>\n",
       "      <td>BJP</td>\n",
       "      <td>2010-10-01</td>\n",
       "      <td>3</td>\n",
       "      <td>19000000</td>\n",
       "      <td>233500</td>\n",
       "    </tr>\n",
       "    <tr>\n",
       "      <th>3</th>\n",
       "      <td>Riteish Deshmukh</td>\n",
       "      <td>2009-07-01</td>\n",
       "      <td>320</td>\n",
       "      <td>11300000</td>\n",
       "      <td>28800</td>\n",
       "    </tr>\n",
       "    <tr>\n",
       "      <th>4</th>\n",
       "      <td>Kiran Bedi</td>\n",
       "      <td>2009-08-01</td>\n",
       "      <td>413</td>\n",
       "      <td>12200000</td>\n",
       "      <td>38500</td>\n",
       "    </tr>\n",
       "  </tbody>\n",
       "</table>\n",
       "</div>"
      ],
      "text/plain": [
       "                   Name Joining_Date  #Following  #Followers  #Total_tweets\n",
       "0           Virat Kohli   2009-09-01          65    49700000           2672\n",
       "1  Harbhajan Turbanator   2009-11-01         213    11700000          10200\n",
       "2                   BJP   2010-10-01           3    19000000         233500\n",
       "3      Riteish Deshmukh   2009-07-01         320    11300000          28800\n",
       "4            Kiran Bedi   2009-08-01         413    12200000          38500"
      ]
     },
     "execution_count": 165,
     "metadata": {},
     "output_type": "execute_result"
    }
   ],
   "source": [
    "#Convert the entries in the required format\n",
    "df['#Following']=df['#Following'].apply(to_number)\n",
    "df['#Followers']=df['#Followers'].apply(to_number)\n",
    "df['#Total_tweets']=df['#Total_tweets'].apply(to_number)\n",
    "df.head()"
   ]
  },
  {
   "cell_type": "code",
   "execution_count": 169,
   "id": "2435577d",
   "metadata": {
    "scrolled": true
   },
   "outputs": [
    {
     "data": {
      "text/html": [
       "<div>\n",
       "<style scoped>\n",
       "    .dataframe tbody tr th:only-of-type {\n",
       "        vertical-align: middle;\n",
       "    }\n",
       "\n",
       "    .dataframe tbody tr th {\n",
       "        vertical-align: top;\n",
       "    }\n",
       "\n",
       "    .dataframe thead th {\n",
       "        text-align: right;\n",
       "    }\n",
       "</style>\n",
       "<table border=\"1\" class=\"dataframe\">\n",
       "  <thead>\n",
       "    <tr style=\"text-align: right;\">\n",
       "      <th></th>\n",
       "      <th>Name</th>\n",
       "      <th>Joining_Date</th>\n",
       "      <th>#Following</th>\n",
       "      <th>#Followers</th>\n",
       "      <th>#Total_tweets</th>\n",
       "    </tr>\n",
       "  </thead>\n",
       "  <tbody>\n",
       "    <tr>\n",
       "      <th>0</th>\n",
       "      <td>Virat Kohli</td>\n",
       "      <td>2009-09-01</td>\n",
       "      <td>65</td>\n",
       "      <td>49700000</td>\n",
       "      <td>2672</td>\n",
       "    </tr>\n",
       "    <tr>\n",
       "      <th>1</th>\n",
       "      <td>Harbhajan Turbanator</td>\n",
       "      <td>2009-11-01</td>\n",
       "      <td>213</td>\n",
       "      <td>11700000</td>\n",
       "      <td>10200</td>\n",
       "    </tr>\n",
       "    <tr>\n",
       "      <th>2</th>\n",
       "      <td>BJP</td>\n",
       "      <td>2010-10-01</td>\n",
       "      <td>3</td>\n",
       "      <td>19000000</td>\n",
       "      <td>233500</td>\n",
       "    </tr>\n",
       "    <tr>\n",
       "      <th>3</th>\n",
       "      <td>Riteish Deshmukh</td>\n",
       "      <td>2009-07-01</td>\n",
       "      <td>320</td>\n",
       "      <td>11300000</td>\n",
       "      <td>28800</td>\n",
       "    </tr>\n",
       "    <tr>\n",
       "      <th>4</th>\n",
       "      <td>Kiran Bedi</td>\n",
       "      <td>2009-08-01</td>\n",
       "      <td>413</td>\n",
       "      <td>12200000</td>\n",
       "      <td>38500</td>\n",
       "    </tr>\n",
       "  </tbody>\n",
       "</table>\n",
       "</div>"
      ],
      "text/plain": [
       "                   Name Joining_Date  #Following  #Followers  #Total_tweets\n",
       "0           Virat Kohli   2009-09-01          65    49700000           2672\n",
       "1  Harbhajan Turbanator   2009-11-01         213    11700000          10200\n",
       "2                   BJP   2010-10-01           3    19000000         233500\n",
       "3      Riteish Deshmukh   2009-07-01         320    11300000          28800\n",
       "4            Kiran Bedi   2009-08-01         413    12200000          38500"
      ]
     },
     "execution_count": 169,
     "metadata": {},
     "output_type": "execute_result"
    }
   ],
   "source": [
    "df.head()"
   ]
  },
  {
   "cell_type": "code",
   "execution_count": null,
   "id": "8a4452c7",
   "metadata": {},
   "outputs": [],
   "source": [
    "#Now we are ready to analysis on this file\n"
   ]
  }
 ],
 "metadata": {
  "kernelspec": {
   "display_name": "Python 3 (ipykernel)",
   "language": "python",
   "name": "python3"
  },
  "language_info": {
   "codemirror_mode": {
    "name": "ipython",
    "version": 3
   },
   "file_extension": ".py",
   "mimetype": "text/x-python",
   "name": "python",
   "nbconvert_exporter": "python",
   "pygments_lexer": "ipython3",
   "version": "3.9.7"
  }
 },
 "nbformat": 4,
 "nbformat_minor": 5
}
